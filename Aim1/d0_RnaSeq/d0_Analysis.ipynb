{
 "cells": [
  {
   "cell_type": "markdown",
   "metadata": {
    "vscode": {
     "languageId": "r"
    }
   },
   "source": [
    "# Analysis of RNASeq Data from Day 0 \n",
    "In this notebook, I will be completing RNASeq analysis for the day 0 data. These efforts are part of Aim 1 for my BMEG490B paper, which is: \n",
    "\n",
    "<b> Characterizing T-Lineage Restriction of MLPs grown in LEM </b>\n",
    "\n",
    "In this document, I will be reading in the created ReadCountdata, performing quality control, linking genes to one of three phenotypes of interest (CD45RA-CLEC12A-,CD45RA+CLEC12A- and CLEC12A+). \n",
    "\n",
    "## Experimental Workflow \n",
    "\n",
    "The experimental workflow generating this data comes from the files testting testing "
   ]
  },
  {
   "cell_type": "markdown",
   "metadata": {},
   "source": []
  }
 ],
 "metadata": {
  "kernelspec": {
   "display_name": "R",
   "language": "R",
   "name": "ir"
  },
  "language_info": {
   "name": "R"
  }
 },
 "nbformat": 4,
 "nbformat_minor": 2
}
