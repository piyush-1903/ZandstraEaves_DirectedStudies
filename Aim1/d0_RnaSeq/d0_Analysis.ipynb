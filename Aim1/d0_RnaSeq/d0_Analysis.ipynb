{
 "cells": [
  {
   "cell_type": "markdown",
   "metadata": {
    "vscode": {
     "languageId": "r"
    }
   },
   "source": [
    "# Analysis of RNASeq Data from Day 0 \n",
    "In this notebook, I will be completing RNASeq analysis for the day 0 data. These efforts are part of Aim 1 for my BMEG490B paper, which is: \n",
    "\n",
    "<b> Characterizing T-Lineage Restriction of MLPs grown in LEM </b>\n",
    "\n",
    "In this document, I will be reading in the created ReadCountdata, performing quality control, linking genes to one of three phenotypes of interest (CD45RA-CLEC12A-,CD45RA+CLEC12A- and CLEC12A+). \n",
    "\n",
    "## Experimental Workflow \n",
    "\n",
    "The experimental workflow generating this data comes from the work of Dr. Fangwu Wang and the Eaves lab, outlined in a paper titled \"Human Lymphoid-Neutrophil/Monocyte Restriction Co-ordinately Activates Increased Proliferation Despite Parallel Heterogeneity In Transcriptional Changes\". The paper can be found via this link: https://www.biorxiv.org/content/10.1101/2024.02.18.580894v1.full \n",
    "\n",
    "\n",
    "The experimental process used to generate the FastQ reads in this file are outlined in Figure 6 of the paper, titled \"CD34+RA-C-cells in a lower proliferative state display higher self-renewal transcriptional programs when stimulated to differentiate\". \n",
    "\n",
    "## Information about the Cells in this Analysis\n",
    "In this analysis, we will be processing cells obtained at Day 0. Specifically, we are looking at primary cord blood cells that are enriched for CD34+ expression, that were chosen given their strong output in lymphoid progenitors. These cells were dubbed `P-Mix` cells, short for progenitor-mix cells. \n",
    "\n",
    "On Day0, a cryopreserved aliquot of these progwas thawed. Cells were then resuspended in PBS supplemented with 1% FBS and 9.1% TruStain FcX. Following a 10-minute incubation, cells were stained with both flow cytometry antibodies and TotalSeq antibodies (BioLegend) as follows: TotalSeq-B0853 anti-human CD371 (CLEC12A), TotalSeq-B0063 anti-human CD45RA, TotalSeq-B0062 anti-human CD10, TotalSeq-B0066 anti-human CD7, TotalSeq-B0054 anti-human CD34, TotalSeq-B0051 anti-human CD14, TotalSeq-B0392 anti-human CD15 (SSEA-1), CD45-AF700 (HI30, BioLegend), CD71-FITC (OKT9, eBioscience), CD38-PECY7 (HIT2, BioLegend), CD45RA-APC (MEM56, Invitrogen), CLEC12A-PE (HB3, eBioscience), CD10-BB700 (MEM78, BD Biosciences) and CD34-BV421 (561, BioLegend).\n",
    "\n",
    " Gene expression and surface protein libraries were generated using the Chromium Next GEM Single Cell 3 ’Reagent Kits v3.1 and sequenced by Illumina MiSeq or NextSeq2000. \n",
    "\n",
    "## Prior Work Done \n",
    "\n",
    " Prior to the implementation of the analysis in this notebook, the generated BCL files were converted into demultiplexed FASTQ files, which were then processed using Cell Ranger Count v8.0.1 (10x Genomics). Alignment of reads to the human reference genome GRCh38 and calculation of Unique Molecular Identifier (UMI) counts for gene expression and antibody libraries were performed on CellRanger Cloud, and completed using the \"Cell Ranger Count\" commaand. The UMI counts mapped to each cell were then compiled into a feature-barcode matrix."
   ]
  },
  {
   "cell_type": "markdown",
   "metadata": {},
   "source": []
  },
  {
   "cell_type": "markdown",
   "metadata": {},
   "source": []
  }
 ],
 "metadata": {
  "kernelspec": {
   "display_name": "R",
   "language": "R",
   "name": "ir"
  },
  "language_info": {
   "name": "R"
  }
 },
 "nbformat": 4,
 "nbformat_minor": 2
}
