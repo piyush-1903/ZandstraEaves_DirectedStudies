{
 "cells": [
  {
   "cell_type": "markdown",
   "id": "e26f132b",
   "metadata": {},
   "source": [
    "### Aim 4: Characterizing The CD45RA+7+69+3+ Populations Performance as a T-Lineage Restricted Progenitor \n",
    "\n",
    "In the previous Aim, we identified two promising CD markers that offer enrichment beyond the CD45RA+CD7+ phenotype. Namely, CD96 (which was thoroughly upregulated in Cluster 13) and CD3E (which it appears was starting to turn on in Cluster 13, while it's assembly regulating gene, UBASH3B, is really differentially upregulated). Additionally, we know from our EDA that the HSC population in this dataset is largely CD5-, with only 20 cells having significant CD5 gene expression. \n",
    "\n",
    "Thus far, we have collected and presented evidence for the following model of T-lineage commitment in FW's LEM system when beginning with CD34+ cells, ending at CD5+CD7+ cells: \n",
    "\n",
    "\n",
    "CD34+RA-C-5-   ->   CD34-45RA-C-5-   ->   CD45RA+C-5-   -->    CD34-45RA+7+C-5-  -->  ?   -->   CD34-45RA+7+C-5+\n",
    "\n",
    "Based on the indication from Aim3, Aim4 (the final aim for real this time) asks 3 questions: \n",
    "\n",
    "- RQ1: How do CD96 and CD3E Expression Patterns Change Over Time?\n",
    "\n",
    "- RQ2: Does Including these markers improves a linear regressors T-lineage scoring?  \n",
    "\n",
    "- RQ3: How Do CD96+3E+ cells compare to the Common Lymphoid Progenitor (CLP - defined `???`). \n",
    "\n"
   ]
  }
 ],
 "metadata": {
  "language_info": {
   "name": "python"
  }
 },
 "nbformat": 4,
 "nbformat_minor": 5
}
